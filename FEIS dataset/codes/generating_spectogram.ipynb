{
 "cells": [
  {
   "cell_type": "markdown",
   "id": "172f6c29-8598-44b3-baa3-ffba0eff92f0",
   "metadata": {},
   "source": [
    "Objective: To create dataset of spectogram of audio\n",
    "\n",
    "@author: Vinay"
   ]
  },
  {
   "cell_type": "code",
   "execution_count": 5,
   "id": "ebc76a9a-9134-4094-ada1-df283e267d16",
   "metadata": {},
   "outputs": [],
   "source": [
    "import os\n",
    "import librosa\n",
    "import numpy as np\n",
    "import pandas as pd\n",
    "%matplotlib inline\n",
    "import matplotlib.pyplot as plt\n",
    "import librosa.display\n",
    "import IPython.display as ipd"
   ]
  },
  {
   "cell_type": "code",
   "execution_count": 8,
   "id": "87fdaf0d-4ef8-45e6-9d6f-a8d8718fc7f2",
   "metadata": {},
   "outputs": [],
   "source": [
    "rootdir = \"C:\\\\Users\\\\vinay\\\\Downloads\\\\FEIS_v1_1\\\\augmented_wavs\"\n",
    "folder_count = 1\n",
    "phonemes_count = {'f': 0, 'fleece': 0, 'goose':0, 'k':0, 'm':0, 'n':0, 'ng':0, 'p':0, 's':0, 'sh':0, 't':0, 'thought':0, 'trap':0, 'v':0, 'z':0, 'zh':0}\n",
    "for subdir, dirs, files in os.walk(rootdir):\n",
    "    if subdir == \"C:\\\\Users\\\\vinay\\\\Downloads\\\\FEIS_v1_1\\\\wavs\\\\\" + f'{folder_count:02d}' + \"\\\\combined_wavs\":\n",
    "        folder_count += 1\n",
    "        if folder_count == 5:\n",
    "            folder_count += 1\n",
    "        continue\n",
    "    elif subdir == \"C:\\\\Users\\\\vinay\\\\Downloads\\\\FEIS_v1_1\\\\wavs\\\\chinese-1\":\n",
    "        break\n",
    "    else:\n",
    "        count = 0\n",
    "        #print(files)\n",
    "        for file in files:\n",
    "            # print('This is subdir',subdir)\n",
    "            # print('This is dirs',dirs)\n",
    "            # print('This is file',file)\n",
    "            dummy = file.replace(\"_\", \".\")\n",
    "            file_name_list = dummy.split('.')\n",
    "            file_path = subdir + \"\\\\\" + file\n",
    "            #print(file_path)\n",
    "            y1, sr=librosa.load(file_path, sr=None, mono=True) # sr=None reads the file at original sampling rate\n",
    "            D = librosa.stft(y1,n_fft=1323,hop_length=661) #n_fft indicates number of samples in each frame. (less memory consumed)\n",
    "            #D = librosa.stft(y1,n_fft=300,hop_length=60) #n_fft indicates number of samples in each frame. (more memory consumed)\n",
    "            S_db = librosa.amplitude_to_db(np.abs(D), ref=np.max)\n",
    "            plt.figure(figsize=(14, 5))\n",
    "            img = librosa.display.specshow(S_db, sr=sr, hop_length=661)\n",
    "            phonemes_count[file_name_list[0]] += 1\n",
    "            spectogram_path = \"C:\\\\Users\\\\vinay\\\\Downloads\\\\FEIS_v1_1\\\\spectogram\\\\\" + file_name_list[0] + \"_\" + str(phonemes_count[file_name_list[0]]) + \".png\"\n",
    "            plt.savefig(spectogram_path, bbox_inches='tight', pad_inches=0)\n",
    "            plt.close()\n",
    "            #print('Shape of y',y1.shape, '  The sampling rate=',sr)"
   ]
  }
 ],
 "metadata": {
  "kernelspec": {
   "display_name": "Python 3 (ipykernel)",
   "language": "python",
   "name": "python3"
  },
  "language_info": {
   "codemirror_mode": {
    "name": "ipython",
    "version": 3
   },
   "file_extension": ".py",
   "mimetype": "text/x-python",
   "name": "python",
   "nbconvert_exporter": "python",
   "pygments_lexer": "ipython3",
   "version": "3.9.7"
  }
 },
 "nbformat": 4,
 "nbformat_minor": 5
}
