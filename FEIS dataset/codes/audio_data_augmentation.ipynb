{
 "cells": [
  {
   "cell_type": "markdown",
   "id": "713535bf-7737-4241-93ee-55f610d408e5",
   "metadata": {},
   "source": [
    "Objective: To create dataset of spectogram of audio\n",
    "\n",
    "@author: Vinay"
   ]
  },
  {
   "cell_type": "code",
   "execution_count": 2,
   "id": "a0d777d1-d82b-4aa9-a36e-cc3ca822b5f6",
   "metadata": {},
   "outputs": [],
   "source": [
    "import os\n",
    "import librosa\n",
    "import numpy as np\n",
    "import pandas as pd\n",
    "%matplotlib inline\n",
    "import soundfile as sf\n",
    "import matplotlib.pyplot as plt\n",
    "import librosa.display\n",
    "import IPython.display as ipd"
   ]
  },
  {
   "cell_type": "code",
   "execution_count": 3,
   "id": "174c14e9-519b-4d77-9ae0-86e1e223f42b",
   "metadata": {},
   "outputs": [],
   "source": [
    "def noise_injection(data, noise_factor):\n",
    "    noise = np.random.randn(len(data))\n",
    "    augmented_data = data + noise_factor * noise\n",
    "    # Cast back to same data type\n",
    "    augmented_data = augmented_data.astype(type(data[0]))\n",
    "    return augmented_data"
   ]
  },
  {
   "cell_type": "code",
   "execution_count": 7,
   "id": "4ca6831e-b2ab-4f62-b475-cb516468d64c",
   "metadata": {},
   "outputs": [],
   "source": [
    "rootdir = \"C:\\\\Users\\\\vinay\\\\Downloads\\\\FEIS_v1_1\\\\wavs\"\n",
    "augmented_data_dir = \"C:\\\\Users\\\\vinay\\\\Downloads\\\\FEIS_v1_1\\\\augmented_wavs\\\\\"\n",
    "folder_count = 1\n",
    "noise_factors = [0, 0.00025, 0.0005, 0.00075, 0.001]\n",
    "phonemes_count = {'f': 0, 'fleece': 0, 'goose':0, 'k':0, 'm':0, 'n':0, 'ng':0, 'p':0, 's':0, 'sh':0, 't':0, 'thought':0, 'trap':0, 'v':0, 'z':0, 'zh':0}\n",
    "for subdir, dirs, files in os.walk(rootdir):\n",
    "    if subdir == \"C:\\\\Users\\\\vinay\\\\Downloads\\\\FEIS_v1_1\\\\wavs\\\\\" + f'{folder_count:02d}' + \"\\\\combined_wavs\":\n",
    "        folder_count += 1\n",
    "        if folder_count == 5:\n",
    "            folder_count += 1\n",
    "        continue\n",
    "    elif subdir == \"C:\\\\Users\\\\vinay\\\\Downloads\\\\FEIS_v1_1\\\\wavs\\\\chinese-1\":\n",
    "        break\n",
    "    else:\n",
    "        count = 0\n",
    "        for file in files:\n",
    "            file_name_list = file.split('.')\n",
    "            file_path = subdir + \"\\\\\" + file\n",
    "            y1, sr=librosa.load(file_path, sr=None, mono=True) # sr=None reads the file at original sampling rate\n",
    "            trial = 0\n",
    "            for noise_factor in noise_factors:\n",
    "                augmented_data = noise_injection(y1, noise_factor)\n",
    "                dummy = folder_count - 1\n",
    "                if folder_count == 6:\n",
    "                    dummy -= 1\n",
    "                new_file = augmented_data_dir + f'{dummy:02d}' + \"\\\\wavs\\\\\" + file_name_list[0] + \"_\" + str(trial) + \".wav\"\n",
    "                sf.write(new_file, augmented_data, sr)\n",
    "                trial += 1\n",
    "            #D = librosa.stft(y1,n_fft=1323,hop_length=661) #n_fft indicates number of samples in each frame. (less memory consumed)\n",
    "            #D = librosa.stft(y1,n_fft=300,hop_length=60) #n_fft indicates number of samples in each frame. (more memory consumed)\n",
    "            #S_db = librosa.amplitude_to_db(np.abs(D), ref=np.max)\n",
    "            #plt.figure(figsize=(14, 5))\n",
    "            #img = librosa.display.specshow(S_db, sr=sr, hop_length=60)\n",
    "            #phonemes_count[file_name_list[0]] += 1\n",
    "            #spectogram_path = \"C:\\\\Users\\\\vinay\\\\Downloads\\\\FEIS_v1_1\\\\spectogram\\\\\" + file_name_list[0] + \"_\" + str(phonemes_count[file_name_list[0]]) + \".png\"\n",
    "            #plt.savefig(spectogram_path)\n",
    "            #plt.close()\n",
    "            #print('Shape of y',y1.shape, '  The sampling rate=',sr)"
   ]
  },
  {
   "cell_type": "code",
   "execution_count": null,
   "id": "a0854a2c-6eaf-40d2-8d2e-0039dbcdcc79",
   "metadata": {},
   "outputs": [],
   "source": []
  },
  {
   "cell_type": "code",
   "execution_count": null,
   "id": "2638d60b-4d07-4556-84c6-67a631594afd",
   "metadata": {},
   "outputs": [],
   "source": []
  }
 ],
 "metadata": {
  "kernelspec": {
   "display_name": "Python 3 (ipykernel)",
   "language": "python",
   "name": "python3"
  },
  "language_info": {
   "codemirror_mode": {
    "name": "ipython",
    "version": 3
   },
   "file_extension": ".py",
   "mimetype": "text/x-python",
   "name": "python",
   "nbconvert_exporter": "python",
   "pygments_lexer": "ipython3",
   "version": "3.9.7"
  }
 },
 "nbformat": 4,
 "nbformat_minor": 5
}
